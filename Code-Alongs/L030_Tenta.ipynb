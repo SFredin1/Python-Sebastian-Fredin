{
 "cells": [
  {
   "cell_type": "markdown",
   "metadata": {},
   "source": [
    "# Uppgift 2: \n",
    "Skriv en funktion som tar in en radie och en höjd som inparametrar och som returnerar volymen av en cylinder. \n",
    "\n",
    "Volymen för en cylinder är: V = πr²h \n",
    "\n",
    "Låt användaren mata in en radie och en höjd och kör funktionen. Tänk på att ta med lämplig felhantering."
   ]
  },
  {
   "cell_type": "code",
   "execution_count": 25,
   "metadata": {},
   "outputs": [
    {
     "name": "stdout",
     "output_type": "stream",
     "text": [
      "Please input only numbers.\n",
      "7389.025921243193\n"
     ]
    }
   ],
   "source": [
    "from math import pi\n",
    "\n",
    "def cylinder_volume(r, h):\n",
    "    return pi * r ** 2 * h \n",
    "\n",
    "while True:\n",
    "    try:\n",
    "        radius = float(input(\"Input radius: \"))\n",
    "        height = float(input(\"Input height: \"))\n",
    "        print(cylinder_volume(radius, height))\n",
    "        break\n",
    "    except ValueError:\n",
    "        print(\"Please input only numbers.\")\n"
   ]
  },
  {
   "cell_type": "markdown",
   "metadata": {},
   "source": [
    "# Uppgift 3: \n",
    "Simulera 1000000 tärningskast och beräkna antalet ettor, tvåor, treor, fyror, femmor och sexor. Spara resultatet i en lämplig datastruktur."
   ]
  },
  {
   "cell_type": "code",
   "execution_count": 31,
   "metadata": {},
   "outputs": [
    {
     "name": "stdout",
     "output_type": "stream",
     "text": [
      "1: 166830\n",
      "2: 166784\n",
      "3: 166039\n",
      "4: 166421\n",
      "5: 166890\n",
      "6: 167036\n"
     ]
    }
   ],
   "source": [
    "import random\n",
    "\n",
    "dice_results = [0] * 6\n",
    "\n",
    "for i in range(1_000_000):\n",
    "    result = random.randint(1, 6)\n",
    "    dice_results[result - 1] += 1\n",
    "    \n",
    "for result, count in enumerate(dice_results, start=1): \n",
    "    print(f\"{result}: {count}\")"
   ]
  },
  {
   "cell_type": "markdown",
   "metadata": {},
   "source": [
    "# Uppgift 4: \n",
    "- Skapa en funktion som tar in ett heltal n som parameter och skriver ut mönstret nedan. \n",
    "\n",
    "Exempel när n = 7: \n",
    "\n",
    "x x x x x x x\n",
    "x o x o x o x\n",
    "x x x x x x x\n",
    "x o x o x o x\n",
    "x x x x x x x\n",
    "x o x o x o x\n",
    "x x x x x x x"
   ]
  },
  {
   "cell_type": "code",
   "execution_count": 6,
   "metadata": {},
   "outputs": [
    {
     "name": "stdout",
     "output_type": "stream",
     "text": [
      "x x x x x x x \n",
      "x o x o x o x \n",
      "x x x x x x x \n",
      "x o x o x o x \n",
      "x x x x x x x \n",
      "x o x o x o x \n",
      "x x x x x x x \n"
     ]
    }
   ],
   "source": [
    "def pattern(n):\n",
    "    for y in range(n):\n",
    "        for x in range(n):\n",
    "            if y % 2 == 0:\n",
    "                print('x', end=' ')\n",
    "            else:\n",
    "                if x % 2 == 0:\n",
    "                    print('x', end=' ')\n",
    "                else:\n",
    "                    print('o', end=' ')\n",
    "        print()                \n",
    "\n",
    "\n",
    "pattern(7)"
   ]
  },
  {
   "cell_type": "code",
   "execution_count": 9,
   "metadata": {},
   "outputs": [
    {
     "name": "stdout",
     "output_type": "stream",
     "text": [
      "x x x x x x x \n",
      "o x o x o x o \n",
      "x x x x x x x \n",
      "o x o x o x o \n",
      "x x x x x x x \n",
      "o x o x o x o \n",
      "x x x x x x x \n"
     ]
    }
   ],
   "source": [
    "def pattern(n):\n",
    "    for y in range(n):\n",
    "        for x in range(n):\n",
    "            print('o' if y % 2 == 1 and x % 2 == 0 else 'x', end=' ')\n",
    "        print()                \n",
    "\n",
    "\n",
    "pattern(7)"
   ]
  },
  {
   "cell_type": "markdown",
   "metadata": {},
   "source": [
    "# Uppgift 5: \n",
    "Skapa en funktion som tar in en summa pengar. Den ska printa ut en representation av sedlar och mynt som representerar summan. Exempel 3214 ska ge:\n",
    "\n",
    "\n",
    "\n",
    "Tusenlapp: 3 \n",
    "\n",
    "Tvåhundralapp: 1 \n",
    "\n",
    "Tiokrona: 1 \n",
    "\n",
    "Enkrona: 4 \n",
    "\n",
    "\n",
    "\n",
    "\n",
    "\n"
   ]
  },
  {
   "cell_type": "code",
   "execution_count": 37,
   "metadata": {},
   "outputs": [
    {
     "name": "stdout",
     "output_type": "stream",
     "text": [
      "[['tusenlapp', 3], ['tvåhundralapp', 1], ['tia', 1], ['tvåkrona', 2]]\n"
     ]
    }
   ],
   "source": [
    "def print_change(amount):\n",
    "    \n",
    "    currency = {\n",
    "        1000: [\"tusenlapp\", 0], \n",
    "        500: [\"femhundralapp\", 0], \n",
    "        200: [\"tvåhundralapp\", 0], \n",
    "        100: [\"hundralapp\", 0],\n",
    "        50: [\"femtiolapp\", 0],\n",
    "        10: [\"tia\", 0],\n",
    "        5: [\"femkrona\", 0],\n",
    "        2: [\"tvåkrona\", 0],\n",
    "        1: [\"enkrona\", 0]\n",
    "    }\n",
    "    \n",
    "\n",
    "    while amount != 0: \n",
    "        for key, value in currency.items():\n",
    "            while amount - key >= 0:\n",
    "                amount -= key\n",
    "                currency[key][1] += 1   \n",
    "    \n",
    "    result = []\n",
    "\n",
    "    for value in currency.values():\n",
    "        if value[-1] != 0:\n",
    "            result.append(value)\n",
    "\n",
    "    print(result)\n",
    "    \n",
    "    \n",
    "\n",
    "print_change(3214)"
   ]
  },
  {
   "cell_type": "markdown",
   "metadata": {},
   "source": [
    "# Uppgift 6: \n",
    "- Implementera PetOwner klassen så att du får liknande utskrift som nedan med det manuella testet. \n",
    "Ada owns: \n",
    "[Dog: Snoopy, Dog: Pluto] \n",
    "[Fish: Fishy, Fish: Buppy] \n",
    "Beda owns: \n",
    "[Dog: Barkly] "
   ]
  },
  {
   "cell_type": "code",
   "execution_count": 19,
   "metadata": {},
   "outputs": [
    {
     "name": "stdout",
     "output_type": "stream",
     "text": [
      "Ada owns:\n",
      "[Dog: Snoopy, Dog: Pluto]\n",
      "['Fish: Fishy', 'Fish: Buppy']\n",
      "\n",
      "Beda owns:\n",
      "[Dog: Barkly]\n",
      "\n"
     ]
    }
   ],
   "source": [
    "class Animal:     \n",
    "    def __init__(self, name):         \n",
    "        self.name = name \n",
    "\n",
    "    def __str__(self):         \n",
    "        return f\"Animal {self.name}\"\n",
    "\n",
    "class Dog(Animal):     # notera att __init__ är nedärvd     \n",
    "    def __repr__(self):         \n",
    "        return f\"Dog: {self.name}\" \n",
    "\n",
    "\n",
    "class Fish(Animal):     \n",
    "    def __repr__(self):         \n",
    "        return f\"Fish: {self.name}\" \n",
    "\n",
    "# TO-DO: implementera PetOwner\n",
    "class PetOwner:\n",
    "    def __init__(self, name, dogs = [], fish = []):\n",
    "        self.name = name\n",
    "        self.dogs = [Dog(name) for name in dogs]\n",
    "        self.fish = [Fish(name) for name in fish]\n",
    "\n",
    "    def __str__(self):\n",
    "        text = self.name + \" owns:\\n\"\n",
    "        if self.dogs:\n",
    "            text += \"[\" + \", \".join([repr(dog) for dog in self.dogs]) + \"]\\n\"\n",
    "        if self.fish:\n",
    "            text += str([repr(fish) for fish in self.fish]) + \"\\n\"\n",
    "\n",
    "        return text\n",
    "\n",
    "\n",
    "owner1 = PetOwner(\"Ada\",[\"Snoopy\", \"Pluto\"], [\"Fishy\", \"Buppy\"]) \n",
    "owner2 = PetOwner(\"Beda\", [\"Barkly\"] ) \n",
    "print(owner1)\n",
    "print(owner2) \n",
    "\n",
    "\n"
   ]
  }
 ],
 "metadata": {
  "kernelspec": {
   "display_name": "Python-Sebastian-Fredin-CV_AEMsU",
   "language": "python",
   "name": "python3"
  },
  "language_info": {
   "codemirror_mode": {
    "name": "ipython",
    "version": 3
   },
   "file_extension": ".py",
   "mimetype": "text/x-python",
   "name": "python",
   "nbconvert_exporter": "python",
   "pygments_lexer": "ipython3",
   "version": "3.11.5"
  }
 },
 "nbformat": 4,
 "nbformat_minor": 2
}
