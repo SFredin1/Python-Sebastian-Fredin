{
 "cells": [
  {
   "cell_type": "markdown",
   "metadata": {},
   "source": [
    " # Data types\n",
    " - **String** (text)\n",
    " - **int**(integer,sv. heltal)\n",
    " - **float**(floating point, sv flyttal(decimaltal))\n",
    " - **bool**(boolean, True/False)"
   ]
  },
  {
   "cell_type": "code",
   "execution_count": 3,
   "metadata": {},
   "outputs": [
    {
     "name": "stdout",
     "output_type": "stream",
     "text": [
      "Sebastian\n",
      "8\n",
      "3.14\n",
      "True\n"
     ]
    },
    {
     "data": {
      "text/plain": [
       "int"
      ]
     },
     "execution_count": 3,
     "metadata": {},
     "output_type": "execute_result"
    }
   ],
   "source": [
    "myString = \"Sebastian\"\n",
    "print(myString)\n",
    "\n",
    "myInt = 8\n",
    "print(myInt)\n",
    "\n",
    "myfloat = 3.14\n",
    "print(myfloat)\n",
    "\n",
    "myBool = True\n",
    "print(myBool)\n",
    "\n",
    "type(myInt) "
   ]
  },
  {
   "cell_type": "markdown",
   "metadata": {},
   "source": [
    "# Literal values\n",
    "- \"Hello\" - string both'' and',Can use single or double quotes. Case-sensitive\n",
    "- 5 Integer\n",
    "- 4.5 Float\n",
    "- True Bool. Can be True or False"
   ]
  },
  {
   "cell_type": "markdown",
   "metadata": {},
   "source": [
    " # Variables \n",
    "- Case-sensitive\n",
    "- Created when first assigned, doesn't need to be declared\n",
    "- Dynamic typing, type is referred from assignment, can be re-typed\n",
    "- Cast type with: str(), int(), float(), bool()"
   ]
  },
  {
   "cell_type": "code",
   "execution_count": 5,
   "metadata": {},
   "outputs": [
    {
     "name": "stdout",
     "output_type": "stream",
     "text": [
      "58\n",
      "<class 'str'>\n",
      "<class 'int'>\n"
     ]
    },
    {
     "ename": "NameError",
     "evalue": "name 'myNumber2' is not defined",
     "output_type": "error",
     "traceback": [
      "\u001b[1;31m---------------------------------------------------------------------------\u001b[0m",
      "\u001b[1;31mNameError\u001b[0m                                 Traceback (most recent call last)",
      "Cell \u001b[1;32mIn[5], line 9\u001b[0m\n\u001b[0;32m      6\u001b[0m \u001b[39mprint\u001b[39m(\u001b[39mtype\u001b[39m(myNumber2))\n\u001b[0;32m      8\u001b[0m \u001b[39mdel\u001b[39;00m(myNumber2)\n\u001b[1;32m----> 9\u001b[0m \u001b[39mprint\u001b[39m(myNumber2)\n",
      "\u001b[1;31mNameError\u001b[0m: name 'myNumber2' is not defined"
     ]
    }
   ],
   "source": [
    "myNumber = \"56\"\n",
    "myNumber2 = int(myNumber)\n",
    "print(myNumber2 + 2)\n",
    "\n",
    "print(type(myNumber))\n",
    "print(type(myNumber2))\n",
    "\n",
    "del(myNumber2)\n",
    "print(myNumber2)\n",
    "\n",
    "# Casting string to bool => false for empty string, true for not empty string\n",
    "print(bool)"
   ]
  }
 ],
 "metadata": {
  "kernelspec": {
   "display_name": "Python 3",
   "language": "python",
   "name": "python3"
  },
  "language_info": {
   "codemirror_mode": {
    "name": "ipython",
    "version": 3
   },
   "file_extension": ".py",
   "mimetype": "text/x-python",
   "name": "python",
   "nbconvert_exporter": "python",
   "pygments_lexer": "ipython3",
   "version": "3.11.5"
  },
  "orig_nbformat": 4
 },
 "nbformat": 4,
 "nbformat_minor": 2
}
