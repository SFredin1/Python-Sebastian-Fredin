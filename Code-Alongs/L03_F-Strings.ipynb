{
 "cells": [
  {
   "cell_type": "markdown",
   "metadata": {},
   "source": [
    "# f-Strings (Formatted string literals)\n",
    "- literal starts with f or F.\n",
    "- variables or expressions can be inserted using {}\n",
    "- use = after expression to print expression and result (not only result)\n",
    "- quotes can be used inside expression as long as they differ from the quotetype of the f-String\n",
    "- For padding and alignment, use :{padding character (default space)}{alignment}{width}\n",
    "- Alignments: Left <, Center ^, Right >. Default alignmentis left for string, right for numerics\n",
    "- Data type: Add data type after padding and alignment eg: x:<20.2f\n",
    "- Data type formats: Fixed-point notation (f), Exponent notation (e), Percentage(%). (Default precision is 6)\n",
    "- Use comma for thousands separation eg: (1000:,) or (1000:,.2f)"
   ]
  },
  {
   "cell_type": "code",
   "execution_count": 1,
   "metadata": {},
   "outputs": [
    {
     "name": "stdout",
     "output_type": "stream",
     "text": [
      "Hello Fredrik!\n",
      "5 + 8 = 13\n",
      "Hej 'Fredrik'.\n",
      "Hej \"Fredrik\".\n",
      "Hej \"Fredrik'.\n",
      "0.78\n",
      "7.800e-01\n",
      "78.000000%\n",
      "1,000,000.00\n"
     ]
    }
   ],
   "source": [
    "name = \"Fredrik\" # input(\"Enter your name: \")\n",
    "myString = f\"Hello {name}!\"\n",
    "print(myString)\n",
    "\n",
    "print(f\"{5 + 8 = }\")\n",
    "\n",
    "print(f\"Hej 'Fredrik'.\")\n",
    "print(f'Hej \"Fredrik\".')\n",
    "print(f\"Hej \\\"Fredrik'.\")\n",
    "\n",
    "print(f\"{0.78:.2f}\")\n",
    "print(f\"{0.78:.3e}\")\n",
    "print(f\"{0.78:%}\")\n",
    "print(f\"{1000000:,.2f}\")"
   ]
  },
  {
   "cell_type": "code",
   "execution_count": 2,
   "metadata": {},
   "outputs": [
    {
     "name": "stdout",
     "output_type": "stream",
     "text": [
      "Firstname           Lastname\n",
      "                  56Johansson\n"
     ]
    },
    {
     "ename": "",
     "evalue": "",
     "output_type": "error",
     "traceback": [
      "\u001b[1;31mThe Kernel crashed while executing code in the the current cell or a previous cell. Please review the code in the cell(s) to identify a possible cause of the failure. Click <a href='https://aka.ms/vscodeJupyterKernelCrash'>here</a> for more info. View Jupyter <a href='command:jupyter.viewOutput'>log</a> for further details."
     ]
    }
   ],
   "source": [
    "first_name = \"Fredrik\"\n",
    "last_name = \"Johansson\"\n",
    "\n",
    "print(f\"{'Firstname':20}{'Lastname'}\")\n",
    "print(f\"{56:20}{last_name}\")"
   ]
  },
  {
   "cell_type": "code",
   "execution_count": 1,
   "metadata": {},
   "outputs": [
    {
     "name": "stdout",
     "output_type": "stream",
     "text": [
      "3.0\n"
     ]
    }
   ],
   "source": [
    "import math\n",
    "print(math.sqrt(9))\n"
   ]
  }
 ],
 "metadata": {
  "kernelspec": {
   "display_name": "Python 3",
   "language": "python",
   "name": "python3"
  },
  "language_info": {
   "codemirror_mode": {
    "name": "ipython",
    "version": 3
   },
   "file_extension": ".py",
   "mimetype": "text/x-python",
   "name": "python",
   "nbconvert_exporter": "python",
   "pygments_lexer": "ipython3",
   "version": "3.11.5"
  },
  "orig_nbformat": 4
 },
 "nbformat": 4,
 "nbformat_minor": 2
}
