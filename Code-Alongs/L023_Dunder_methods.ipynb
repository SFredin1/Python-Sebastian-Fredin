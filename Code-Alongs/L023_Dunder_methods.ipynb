{
 "cells": [
  {
   "cell_type": "markdown",
   "metadata": {},
   "source": [
    "# Dunder methods (double underscore__)\n",
    "\n",
    "- \\_\\_init__() Is called when a new object instance is created. The purpose is to initialize the object"
   ]
  },
  {
   "cell_type": "code",
   "execution_count": 13,
   "metadata": {},
   "outputs": [
    {
     "name": "stdout",
     "output_type": "stream",
     "text": [
      "This is a cat called Mjau\n",
      "Cat(\"Mjau\")\n"
     ]
    }
   ],
   "source": [
    "class Cat:\n",
    "    def __init__(self, name):\n",
    "        self.name = name\n",
    "\n",
    "    def __str__(self):\n",
    "        return f\"This is a cat called {self.name}\"\n",
    "    \n",
    "    def __repr__(self):\n",
    "        return f'Cat(\"{self.name}\")'\n",
    "        \n",
    "\n",
    "\n",
    "my_cat = Cat(\"Mjau\")\n",
    "\n",
    "\n",
    "my_int = 5\n",
    "my_bool = True\n",
    "my_string = str(my_cat)\n",
    " \n",
    "print(str(my_cat))\n",
    "print(repr(my_cat))"
   ]
  },
  {
   "cell_type": "code",
   "execution_count": 17,
   "metadata": {},
   "outputs": [
    {
     "name": "stdout",
     "output_type": "stream",
     "text": [
      "Cat(\"Mjau\")\n"
     ]
    },
    {
     "data": {
      "text/plain": [
       "'Mjau'"
      ]
     },
     "execution_count": 17,
     "metadata": {},
     "output_type": "execute_result"
    }
   ],
   "source": [
    "my_cat = Cat(\"Mjau\")\n",
    "print(repr(my_cat))\n",
    "copycat = eval(repr(my_cat))\n",
    "copycat.name"
   ]
  },
  {
   "cell_type": "code",
   "execution_count": 18,
   "metadata": {},
   "outputs": [
    {
     "name": "stdout",
     "output_type": "stream",
     "text": [
      "5\n"
     ]
    }
   ],
   "source": [
    "x = 5\n",
    "eval(\"print(x)\")"
   ]
  },
  {
   "cell_type": "code",
   "execution_count": 8,
   "metadata": {},
   "outputs": [
    {
     "name": "stdout",
     "output_type": "stream",
     "text": [
      "This is a cat called Mjau\n",
      "This is a cat called Pelle\n",
      "This is a cat called Måns\n"
     ]
    }
   ],
   "source": [
    "cats = [Cat(\"Mjau\"), Cat(\"Pelle\"), Cat(\"Måns\")]\n",
    "\n",
    "for cat in cats:\n",
    "    print(cat)"
   ]
  }
 ],
 "metadata": {
  "kernelspec": {
   "display_name": "Python-Sebastian-Fredin-CV_AEMsU",
   "language": "python",
   "name": "python3"
  },
  "language_info": {
   "codemirror_mode": {
    "name": "ipython",
    "version": 3
   },
   "file_extension": ".py",
   "mimetype": "text/x-python",
   "name": "python",
   "nbconvert_exporter": "python",
   "pygments_lexer": "ipython3",
   "version": "3.11.5"
  },
  "orig_nbformat": 4
 },
 "nbformat": 4,
 "nbformat_minor": 2
}
