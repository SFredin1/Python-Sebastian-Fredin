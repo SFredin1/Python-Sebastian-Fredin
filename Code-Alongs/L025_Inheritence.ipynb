{
 "cells": [
  {
   "cell_type": "markdown",
   "metadata": {},
   "source": [
    "# Inheritance (Arv)"
   ]
  },
  {
   "cell_type": "code",
   "execution_count": 49,
   "metadata": {},
   "outputs": [
    {
     "name": "stdout",
     "output_type": "stream",
     "text": [
      "Pelle is running\n",
      "Karo is running\n",
      "Karo is barking: VOFF!\n",
      "Nemo is swimming\n",
      "Kalle is running\n",
      "Kalle is barking: voff!\n"
     ]
    }
   ],
   "source": [
    "class Animal:\n",
    "    def __init__(self, name):\n",
    "        self.name = name\n",
    "\n",
    "    def __repr__(self):\n",
    "        return f\"My name is {self.name} and I am a {type(self)}\"\n",
    "    \n",
    "    def move(self):\n",
    "        print(f\"{self.name} is running\")\n",
    "\n",
    "       \n",
    "        \n",
    "class Cat(Animal):  #ärver av \"class Animal:\"\n",
    "    ...\n",
    "\n",
    "class Dog(Animal):  #ärver av \"class Animal:\"\n",
    "    # Method override\n",
    "    def __init__(self, name, is_loud = True):\n",
    "        self.name = name\n",
    "        self._is_loud = is_loud # \"._\" private\n",
    "\n",
    "    def bark(self):\n",
    "        if self.is_loud == True:\n",
    "            print(f\"{self.name} is barking: VOFF!\")\n",
    "        else:\n",
    "            print(f\"{self.name} is barking: voff!\")\n",
    "    \n",
    "class Fish(Animal):  #ärver av \"class Animal:\"\n",
    "    # Method override\n",
    "    def move(self):\n",
    "        print(f\"{self.name} is swimming\")\n",
    "\n",
    "\n",
    "animals = [\n",
    "    Cat(\"Pelle\"),\n",
    "    Dog(\"Karo\", is_loud = True),\n",
    "    Fish(\"Nemo\"),\n",
    "    Dog(\"Kalle\", is_loud = False),    \n",
    "]\n",
    "\n",
    "for animal in animals:\n",
    "     animal.move()\n",
    "     # if hasattr(animal, \"bark\"):\n",
    "     # if type(animal) == Dog:\n",
    "     if isinstance(animal, Dog):  # Return whether an object is an instance of a class or of a subclass thereof.\n",
    "         animal.bark()\n",
    "\n"
   ]
  },
  {
   "cell_type": "code",
   "execution_count": 38,
   "metadata": {},
   "outputs": [
    {
     "name": "stdout",
     "output_type": "stream",
     "text": [
      "isinstance(my_cat, Cat) = True\n",
      "isinstance(my_cat, Dog) = False\n",
      "isinstance(my_cat, Animal) = True\n",
      "isinstance(Animal, Cat) = False\n"
     ]
    }
   ],
   "source": [
    "my_cat = Cat(\"Pelle\")\n",
    "print(f\"{isinstance(my_cat, Cat) = }\")\n",
    "print(f\"{isinstance(my_cat, Dog) = }\")\n",
    "print(f\"{isinstance(my_cat, Animal) = }\")\n",
    "print(f\"{isinstance(my_cat, object) = }\")"
   ]
  },
  {
   "cell_type": "code",
   "execution_count": 41,
   "metadata": {},
   "outputs": [
    {
     "name": "stdout",
     "output_type": "stream",
     "text": [
      "issubclass(Cat, Dog) = False\n",
      "issubclass(Cat, Animal) = True\n",
      "issubclass(Cat, object) = True\n",
      "issubclass(Animal, Cat) = False\n"
     ]
    }
   ],
   "source": [
    "print(f\"{issubclass(Cat, Dog) = }\")\n",
    "print(f\"{issubclass(Cat, Animal) = }\")\n",
    "print(f\"{issubclass(Cat, object) = }\")\n",
    "print(f\"{issubclass(Animal, Cat) = }\")"
   ]
  },
  {
   "cell_type": "code",
   "execution_count": 42,
   "metadata": {},
   "outputs": [
    {
     "name": "stdout",
     "output_type": "stream",
     "text": [
      "hasattr(my_dog, 'name') = True\n",
      "hasattr(my_dog, 'age') = False\n",
      "hasattr(my_dog, 'bark') = True\n",
      "hasattr(my_dog, '__init__') = True\n",
      "hasattr(my_dog, '__dict__') = True\n"
     ]
    }
   ],
   "source": [
    "my_dog = Dog(\"Karo\")\n",
    "print(f\"{hasattr(my_dog, 'name') = }\")\n",
    "print(f\"{hasattr(my_dog, 'age') = }\")\n",
    "print(f\"{hasattr(my_dog, 'bark') = }\")\n",
    "print(f\"{hasattr(my_dog, '__init__') = }\")\n",
    "print(f\"{hasattr(my_dog, '__dict__') = }\")"
   ]
  },
  {
   "cell_type": "code",
   "execution_count": 37,
   "metadata": {},
   "outputs": [
    {
     "name": "stdout",
     "output_type": "stream",
     "text": [
      "<__main__.Robot object at 0x000001EA14A76810>\n"
     ]
    }
   ],
   "source": [
    "class Robot:\n",
    "    def __init__(self):\n",
    "        name = \"Untitled robot\"\n",
    "        \n",
    "    \n",
    "my_robot = Robot()\n",
    "print(my_robot)"
   ]
  }
 ],
 "metadata": {
  "kernelspec": {
   "display_name": "Python-Sebastian-Fredin-CV_AEMsU",
   "language": "python",
   "name": "python3"
  },
  "language_info": {
   "codemirror_mode": {
    "name": "ipython",
    "version": 3
   },
   "file_extension": ".py",
   "mimetype": "text/x-python",
   "name": "python",
   "nbconvert_exporter": "python",
   "pygments_lexer": "ipython3",
   "version": "3.11.5"
  },
  "orig_nbformat": 4
 },
 "nbformat": 4,
 "nbformat_minor": 2
}
