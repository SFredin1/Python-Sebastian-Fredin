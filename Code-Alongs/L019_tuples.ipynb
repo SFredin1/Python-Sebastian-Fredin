{
 "cells": [
  {
   "cell_type": "markdown",
   "metadata": {},
   "source": [
    "# Tuples\n",
    "- Tuples are used to store multiple items in a single variable\n",
    "- Tuples items are ordered, unchangeble, and allow duplicate values\n",
    "- Tuples items are indexed, the first item has index [0], the second [1] and so on.\n",
    "- Tuples are written with round brackets ()"
   ]
  },
  {
   "cell_type": "code",
   "execution_count": 1,
   "metadata": {},
   "outputs": [
    {
     "name": "stdout",
     "output_type": "stream",
     "text": [
      "my_tuple[0] = 'Fredrik'\n",
      "my_tuple = ('Kalle', 42, 'Everyloop')\n"
     ]
    }
   ],
   "source": [
    "# Create empty tuple\n",
    "empty_tuple = ()\n",
    "\n",
    "# Create tuple with 1 item\n",
    "single_item_tuple = (1, )\n",
    "\n",
    "# Create tuple with items\n",
    "my_tuple =(\"Fredrik\", 42, \"Everyloop\")\n",
    "\n",
    "# Tuples can be indexed (and sliced)\n",
    "print(f\"{my_tuple[0] = }\")\n",
    "\n",
    "# But individual items can not be altered\n",
    "# my_tuple[0] = \"Kalle\"\n",
    "\n",
    "# The workaround to alter items is to convert to list and back\n",
    "my_list = list(my_tuple)\n",
    "my_list[0] = \"Kalle\"\n",
    "my_tuple = tuple(my_list)\n",
    "\n",
    "print(f\"{my_tuple = }\")\n",
    "\n"
   ]
  },
  {
   "cell_type": "markdown",
   "metadata": {},
   "source": [
    "# Unpacking a tuple\n",
    "When we create a tuple, we normally assign values to it. This is called \"packing\" a tuple.\n",
    "We are also allowed to extract the values back into variable. This is called \"unpacking\"."
   ]
  },
  {
   "cell_type": "code",
   "execution_count": 3,
   "metadata": {},
   "outputs": [
    {
     "name": "stdout",
     "output_type": "stream",
     "text": [
      "name = 'Kalle'\n",
      "age = 42\n",
      "company = 'Everyloop'\n"
     ]
    }
   ],
   "source": [
    "name, age, company = my_tuple\n",
    "print(f\"{name = }\")\n",
    "print(f\"{age = }\")\n",
    "print(f\"{company = }\")"
   ]
  },
  {
   "cell_type": "markdown",
   "metadata": {},
   "source": [
    "# Looping through a tuple\n"
   ]
  },
  {
   "cell_type": "code",
   "execution_count": 4,
   "metadata": {},
   "outputs": [
    {
     "name": "stdout",
     "output_type": "stream",
     "text": [
      "Kalle\n",
      "42\n",
      "Everyloop\n"
     ]
    }
   ],
   "source": [
    "for item in my_tuple:\n",
    "    print(item)"
   ]
  },
  {
   "cell_type": "code",
   "execution_count": 6,
   "metadata": {},
   "outputs": [
    {
     "name": "stdout",
     "output_type": "stream",
     "text": [
      "Kalle\n",
      "42\n",
      "Everyloop\n"
     ]
    }
   ],
   "source": [
    "for i in range(len(my_tuple)):\n",
    "    print(my_tuple[i])"
   ]
  }
 ],
 "metadata": {
  "kernelspec": {
   "display_name": "Python-Sebastian-Fredin-CV_AEMsU",
   "language": "python",
   "name": "python3"
  },
  "language_info": {
   "codemirror_mode": {
    "name": "ipython",
    "version": 3
   },
   "file_extension": ".py",
   "mimetype": "text/x-python",
   "name": "python",
   "nbconvert_exporter": "python",
   "pygments_lexer": "ipython3",
   "version": "3.11.5"
  },
  "orig_nbformat": 4
 },
 "nbformat": 4,
 "nbformat_minor": 2
}
