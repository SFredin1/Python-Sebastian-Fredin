{
 "cells": [
  {
   "cell_type": "markdown",
   "metadata": {},
   "source": [
    "# Name binding \n",
    "- Everything in Python is an object, meaning every entity has some metadata (attributes) and associated funcionality (methods).\n",
    "- Names can be bound to any object."
   ]
  },
  {
   "cell_type": "markdown",
   "metadata": {},
   "source": [
    "## Mutable vs immutable objects \n",
    "- Numerics, strings and tuples are immuteble, meaning their values can't change after they are created.\n",
    "- Almost everthing else, including list, dictionaries and user-defined objects, are muteble, meaning the value has methods that can change the value in-place."
   ]
  },
  {
   "cell_type": "code",
   "execution_count": 3,
   "metadata": {},
   "outputs": [
    {
     "name": "stdout",
     "output_type": "stream",
     "text": [
      "1 140713805603624\n",
      "2 140713805603656\n"
     ]
    }
   ],
   "source": [
    "a = 1\n",
    "print(a, id(a))\n",
    "a = 2\n",
    "print(a, id(a))"
   ]
  },
  {
   "cell_type": "markdown",
   "metadata": {},
   "source": [
    "# Rebinding the name vs mutating the value \n",
    "- Variables in Python doesnt work the same as in languages like C# and Java\n",
    "- 'a' doesn't refer to a place in memory where we store different values \n",
    "- rather values themself are objects in memory, and 'a' is the name bound to it\n",
    "- 'a' = 2 doesnt mutate  the value of 'a', but rather create a new object"
   ]
  },
  {
   "cell_type": "code",
   "execution_count": 4,
   "metadata": {},
   "outputs": [
    {
     "name": "stdout",
     "output_type": "stream",
     "text": [
      "a = 1 140713805603624\n",
      "b = 1 140713805603624\n",
      "\n",
      "a = 1 140713805603624\n",
      "b = 2 140713805603656\n"
     ]
    }
   ],
   "source": [
    "a = 1\n",
    "b = a\n",
    "\n",
    "print(f\"{a = }\", id(a))\n",
    "print(f\"{b = }\", id(b))\n",
    "\n",
    "print()\n",
    "b = 2\n",
    "\n",
    "print(f\"{a = }\", id(a))\n",
    "print(f\"{b = }\", id(b))"
   ]
  },
  {
   "cell_type": "code",
   "execution_count": 14,
   "metadata": {},
   "outputs": [
    {
     "name": "stdout",
     "output_type": "stream",
     "text": [
      "cat_a = <__main__.Cat object at 0x000002A0AFA60A10> 0x2a0afa60a10\n",
      "cat_a.name = 'Bill' 2889164524976\n",
      "cat_b.name = 'Bill' 2889164524976\n",
      "\n",
      "cat_a.name = 'Bull' 2889164917744\n",
      "cat_b.name = 'Bull' 2889164917744\n",
      "\n",
      "cat_a.name = 'Måns' 2889164233008\n",
      "cat_b.name = 'Bull' 2889164917744\n"
     ]
    }
   ],
   "source": [
    "class Cat:\n",
    "    def __init__(self, name):\n",
    "        self.name = name\n",
    "\n",
    "\n",
    "cat_a = Cat(\"Bill\")\n",
    "\n",
    "print(f\"{cat_a = }\", hex(id(cat_a))) # hex = different numerics\n",
    "\n",
    "cat_b = cat_a\n",
    "\n",
    "print(f\"{cat_a.name = }\", id(cat_a.name))\n",
    "print(f\"{cat_b.name = }\", id(cat_b.name))\n",
    "\n",
    "print()\n",
    "cat_b.name = \"Bull\"\n",
    "\n",
    "print(f\"{cat_a.name = }\", id(cat_a.name))\n",
    "print(f\"{cat_b.name = }\", id(cat_b.name))\n",
    "\n",
    "print()\n",
    "cat_a = Cat(\"Måns\")\n",
    "\n",
    "print(f\"{cat_a.name = }\", id(cat_a.name))\n",
    "print(f\"{cat_b.name = }\", id(cat_b.name))\n"
   ]
  },
  {
   "cell_type": "markdown",
   "metadata": {},
   "source": [
    "## Names and values\n",
    "- Names refers to values.\n",
    "- Assignments never copies data. \n",
    "- Many names can refer to one value.\n",
    "- Changes in values are visible through all of its names.\n",
    "- Names are reassigned independently of other names. \n",
    "- Objects live until nothing references them.\n",
    "\n",
    "*Python keeps track of how many references each object has, and automatically cleans up objects that have none. This is called \"garbage collection\", and means that you don't have to get rid of objects, they go away by themselfs when they are no longer needed.*"
   ]
  },
  {
   "cell_type": "code",
   "execution_count": 18,
   "metadata": {},
   "outputs": [
    {
     "name": "stdout",
     "output_type": "stream",
     "text": [
      "2889164927536\n",
      "2889164524976\n",
      "2889164524976\n"
     ]
    }
   ],
   "source": [
    "a = \"Pelle\"\n",
    "b = [\"Måns\", \"Pelle\", \"Bill\", \"Bull\"]\n",
    "c = Cat(\"Pelle\")\n",
    "\n",
    "print(id(a))\n",
    "print(id(b[1]))\n",
    "print(id(c.name))"
   ]
  },
  {
   "cell_type": "markdown",
   "metadata": {},
   "source": [
    "# References can be more than just names.\n",
    "Anything that can appear on the left-hand side of an assignment statement is a reference, such as:\n",
    "- list items\n",
    "- dictionary keys and values \n",
    "- object attributes \n",
    "- ...and so on "
   ]
  },
  {
   "cell_type": "code",
   "execution_count": 25,
   "metadata": {},
   "outputs": [
    {
     "name": "stdout",
     "output_type": "stream",
     "text": [
      "a = [1, 2, 3] 2889164792000\n",
      "b = [1, 2, 3] 2889164792000\n",
      "\n",
      "a = [1, 2, 3, 4] 2889164792000\n",
      "b = [1, 2, 3, 4] 2889164792000\n",
      "\n",
      "a = [1, 2, 3, 4] 2889164792000\n",
      "b = [1, 2, 3, 4] 2889164790208\n",
      "\n",
      "a == b = True\n",
      "a is b = False\n"
     ]
    }
   ],
   "source": [
    "a = [1, 2, 3]\n",
    "b = a\n",
    "\n",
    "print(f\"{a = }\", id(a))\n",
    "print(f\"{b = }\", id(b))\n",
    "\n",
    "print()\n",
    "b.append(4)\n",
    "\n",
    "print(f\"{a = }\", id(a))\n",
    "print(f\"{b = }\", id(b))\n",
    "\n",
    "print()\n",
    "b = a.copy()\n",
    "\n",
    "print(f\"{a = }\", id(a))\n",
    "print(f\"{b = }\", id(b))\n",
    "\n",
    "print()\n",
    "print(f\"{a == b = }\") # samma värde\n",
    "print(f\"{a is b = }\") # (is)är samma object\n",
    "\n",
    "print()\n",
    "b.append(5)\n",
    "\n",
    "print(f\"{a = }\", id(a))\n",
    "print(f\"{b = }\", id(b))\n",
    "\n"
   ]
  },
  {
   "cell_type": "markdown",
   "metadata": {},
   "source": [
    "## Identity vs equality\n",
    "- The *is* operator checks whether two variables refer to the same object.\n",
    "- The *==* operator check whether the values of two variables are eaqual."
   ]
  },
  {
   "cell_type": "code",
   "execution_count": 31,
   "metadata": {},
   "outputs": [
    {
     "name": "stdout",
     "output_type": "stream",
     "text": [
      "cat_a.name = 'Pelle' 2889164524976\n",
      "cat_b.name = 'Pelle' 2889164524976\n",
      "\n",
      "cat_a.name = 'Pelle' 2889164524976\n",
      "cat_b.name = 'Måns' 2889165022960\n",
      "\n",
      "cat_a.friends = ['Bill', 'Bull', 'Pelle'] 2889170853376\n",
      "cat_b.friends = ['Bill', 'Bull', 'Pelle'] 2889170853376\n",
      "\n",
      "cat_a.friends = ['Bill', 'Bull', 'Pelle'] 2889170853376\n",
      "cat_b.friends = ['Bill', 'Bull', 'Pelle', 'Måns'] 2889170853312\n"
     ]
    }
   ],
   "source": [
    "import copy\n",
    "\n",
    "cat_a = Cat(\"Pelle\")\n",
    "cat_a.friends = [\"Bill\", \"Bull\"]\n",
    "\n",
    "cat_b = copy.copy(cat_a) \n",
    "\n",
    "print(f\"{cat_a.name = }\", id(cat_a.name))\n",
    "print(f\"{cat_b.name = }\", id(cat_b.name))\n",
    "\n",
    "print()\n",
    "cat_b.name = \"Måns\"\n",
    "\n",
    "print(f\"{cat_a.name = }\", id(cat_a.name))\n",
    "print(f\"{cat_b.name = }\", id(cat_b.name))\n",
    "\n",
    "print()\n",
    "cat_b.friends.append(\"Pelle\")\n",
    "\n",
    "print(f\"{cat_a.friends = }\", id(cat_a.friends))\n",
    "print(f\"{cat_b.friends = }\", id(cat_b.friends))\n",
    "\n",
    "cat_b = copy.deepcopy(cat_a)\n",
    "\n",
    "print()\n",
    "cat_b.friends.append(\"Måns\")\n",
    "\n",
    "print(f\"{cat_a.friends = }\", id(cat_a.friends))\n",
    "print(f\"{cat_b.friends = }\", id(cat_b.friends))\n"
   ]
  },
  {
   "cell_type": "markdown",
   "metadata": {},
   "source": [
    "## Shallow vs deep copy\n",
    "- Assignment statements in Python do not create copies of objects, they only bind names to an object.\n",
    "- A **shallow copy** means constructing a new collection object and then populating it with references to the child objects found in the original. In essence, a shallow copy is only one level deep. The copying process does not recurse and therefore won't create copies of the child objects themselves.\n",
    "- A **deep copy** makes the copying process recursive. It means first constructing a new collection object and then recursively populating it with copies of the child objects found in the original. Copying an object this way walks the whole "
   ]
  },
  {
   "cell_type": "code",
   "execution_count": 33,
   "metadata": {},
   "outputs": [
    {
     "name": "stdout",
     "output_type": "stream",
     "text": [
      "True\n",
      "This is my function\n",
      "This is my function\n",
      "Now my_func refers to a new function!\n",
      "This is my function\n"
     ]
    }
   ],
   "source": [
    "def my_func():\n",
    "    print(\"This is my function\")\n",
    "\n",
    "print(callable(my_func))\n",
    "\n",
    "my_func()\n",
    "\n",
    "also_my_func = my_func\n",
    "\n",
    "also_my_func()\n",
    "\n",
    "def my_func():\n",
    "    print(\"Now my_func refers to a new function!\")\n",
    "\n",
    "my_func()\n",
    "also_my_func()"
   ]
  },
  {
   "cell_type": "markdown",
   "metadata": {},
   "source": [
    "### Lots of things are assignments \n",
    "Jast as many things can serve as reference, there are many operations in Python that are assignments.\n",
    "\n",
    "Each of these lines in an assignment to the name X:"
   ]
  },
  {
   "cell_type": "code",
   "execution_count": null,
   "metadata": {},
   "outputs": [],
   "source": [
    "X = ...\n",
    "for X in ...\n",
    "[... for X in ...]\n",
    "def x(...):\n",
    "class X:\n",
    "import X\n",
    "from ...import X"
   ]
  },
  {
   "cell_type": "markdown",
   "metadata": {},
   "source": [
    "Its not that these statements act kind of like assignments, but they are real assignments. They all make the name 'X' refer to an object, and every fact about assignments applies to all of them."
   ]
  },
  {
   "cell_type": "code",
   "execution_count": 34,
   "metadata": {},
   "outputs": [
    {
     "ename": "TypeError",
     "evalue": "'int' object is not callable",
     "output_type": "error",
     "traceback": [
      "\u001b[1;31m---------------------------------------------------------------------------\u001b[0m",
      "\u001b[1;31mTypeError\u001b[0m                                 Traceback (most recent call last)",
      "\u001b[1;32mc:\\Users\\user\\Documents\\GitHub\\Python-Sebastian-Fredin\\Code-Alongs\\L029_Name_binding.ipynb Cell 18\u001b[0m line \u001b[0;36m2\n\u001b[0;32m      <a href='vscode-notebook-cell:/c%3A/Users/user/Documents/GitHub/Python-Sebastian-Fredin/Code-Alongs/L029_Name_binding.ipynb#X24sZmlsZQ%3D%3D?line=0'>1</a>\u001b[0m \u001b[39mprint\u001b[39m \u001b[39m=\u001b[39m \u001b[39m5\u001b[39m\n\u001b[1;32m----> <a href='vscode-notebook-cell:/c%3A/Users/user/Documents/GitHub/Python-Sebastian-Fredin/Code-Alongs/L029_Name_binding.ipynb#X24sZmlsZQ%3D%3D?line=1'>2</a>\u001b[0m \u001b[39mprint\u001b[39;49m(\u001b[39m\"\u001b[39;49m\u001b[39mHello World\u001b[39;49m\u001b[39m\"\u001b[39;49m)\n",
      "\u001b[1;31mTypeError\u001b[0m: 'int' object is not callable"
     ]
    }
   ],
   "source": [
    "print = 5\n",
    "print(\"Hello World\")\n",
    "\n",
    "s"
   ]
  },
  {
   "cell_type": "code",
   "execution_count": 35,
   "metadata": {},
   "outputs": [
    {
     "name": "stdout",
     "output_type": "stream",
     "text": [
      "Hello World\n"
     ]
    }
   ],
   "source": [
    "del print\n",
    "print(\"Hello World\")"
   ]
  },
  {
   "cell_type": "code",
   "execution_count": 41,
   "metadata": {},
   "outputs": [
    {
     "name": "stdout",
     "output_type": "stream",
     "text": [
      "Hello world\n",
      "HELLO WORLD\n",
      "hello world\n"
     ]
    }
   ],
   "source": [
    "def my_func(function, string):\n",
    "    function(string)\n",
    "\n",
    "my_func(print, \"Hello world\")\n",
    "\n",
    "def my_func(function, string):\n",
    "    return function(string)\n",
    "\n",
    "print(my_func(str.upper, \"Hello world\"))\n",
    "print(my_func(str.lower, \"Hello world\"))"
   ]
  },
  {
   "cell_type": "code",
   "execution_count": 42,
   "metadata": {},
   "outputs": [
    {
     "name": "stdout",
     "output_type": "stream",
     "text": [
      "HELLO WORLD\n",
      "hello world\n",
      "Hello world\n",
      "Hello World\n"
     ]
    }
   ],
   "source": [
    "methods = [str.upper, str.lower, str.capitalize, str.title]\n",
    "\n",
    "for method in methods:\n",
    "    print(method(\"HELLO world\"))\n"
   ]
  },
  {
   "cell_type": "code",
   "execution_count": 43,
   "metadata": {},
   "outputs": [
    {
     "data": {
      "text/plain": [
       "[24.0, 32.5, 1.0]"
      ]
     },
     "execution_count": 43,
     "metadata": {},
     "output_type": "execute_result"
    }
   ],
   "source": [
    "list(map(float, [\"24.0\", \"32.5\", \"1\"]))"
   ]
  },
  {
   "cell_type": "code",
   "execution_count": 44,
   "metadata": {},
   "outputs": [
    {
     "data": {
      "text/plain": [
       "['kiwi', 'apple', 'melon', 'orange', 'grapes', 'pineappe']"
      ]
     },
     "execution_count": 44,
     "metadata": {},
     "output_type": "execute_result"
    }
   ],
   "source": [
    "fruits = [\"apple\", \"orange\", \"melon\", \"kiwi\", \"pineappe\", \"grapes\"]\n",
    "\n",
    "sorted(fruits, key=len) # sorterar efter längd(len)"
   ]
  },
  {
   "cell_type": "markdown",
   "metadata": {},
   "source": [
    "## Python passes function arguments by assigning to them.\n",
    "- Parameters are names use in a function.\n",
    "- When calling a function, we provide actual values to be used as the arguments of the function.\n",
    "- These values are assigned to the parameter names just as if an assignment statement had been used."
   ]
  },
  {
   "cell_type": "code",
   "execution_count": 45,
   "metadata": {},
   "outputs": [
    {
     "data": {
      "text/plain": [
       "17"
      ]
     },
     "execution_count": 45,
     "metadata": {},
     "output_type": "execute_result"
    }
   ],
   "source": [
    "def my_func(x, y):\n",
    "    return x + y\n",
    "\n",
    "my_func(8, 9)"
   ]
  },
  {
   "cell_type": "markdown",
   "metadata": {},
   "source": [
    "When my_func is called, the name x has 8 asssigned to it, and the name y has 9 assigned to it. That assignment work exactly the same as the simple assignment statements we've been talking about. The name x a dn y are local to the function, so when the function returns, those names go away. But if the value it refers to are still referenced by other name, the values lives on.\n",
    "\n",
    "Just like every other assignment, muteble values can be passed into function, and changes to the value will be visible through all of its names."
   ]
  },
  {
   "cell_type": "code",
   "execution_count": 46,
   "metadata": {},
   "outputs": [
    {
     "name": "stdout",
     "output_type": "stream",
     "text": [
      "Måns\n"
     ]
    }
   ],
   "source": [
    "def my_func(cat):\n",
    "    cat.name = \"Måns\"\n",
    "\n",
    "cat_a = Cat(\"Pelle\")\n",
    "my_func(cat_a)\n",
    "print(cat_a.name)"
   ]
  },
  {
   "cell_type": "code",
   "execution_count": 47,
   "metadata": {},
   "outputs": [
    {
     "name": "stdout",
     "output_type": "stream",
     "text": [
      "['A', 'B', 'C']\n",
      "['E', 'D']\n"
     ]
    }
   ],
   "source": [
    "def set_list(list):\n",
    "    list = ['A', 'B', 'C']\n",
    "    return list\n",
    "\n",
    "def append_list(list):\n",
    "    list.append('D')\n",
    "    return list\n",
    "\n",
    "my_list = ['E']\n",
    "\n",
    "print(set_list(my_list))\n",
    "print(append_list(my_list))"
   ]
  }
 ],
 "metadata": {
  "kernelspec": {
   "display_name": "Python-Sebastian-Fredin-CV_AEMsU",
   "language": "python",
   "name": "python3"
  },
  "language_info": {
   "codemirror_mode": {
    "name": "ipython",
    "version": 3
   },
   "file_extension": ".py",
   "mimetype": "text/x-python",
   "name": "python",
   "nbconvert_exporter": "python",
   "pygments_lexer": "ipython3",
   "version": "3.11.5"
  },
  "orig_nbformat": 4
 },
 "nbformat": 4,
 "nbformat_minor": 2
}
