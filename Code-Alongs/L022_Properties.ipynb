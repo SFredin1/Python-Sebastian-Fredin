{
 "cells": [
  {
   "cell_type": "markdown",
   "metadata": {},
   "source": [
    "# Properties (sing. Property, sv. Egenskap)\n",
    "A property is a python construction (or OOP concept) that works similar to an attribute, with the difference that an attribute stores (and reads) the value directly to memory, while a property uses getter and setter methods to change the values to the property.\n",
    "\n",
    "From the \"outside\" (of class definition) when a property of an object is set, the objects internal setter methd will be called to handle the operation. This method is marked in the class definition by a decorator called {name}.setter (where \"name\" is the name of the property).\n",
    "\n",
    "When a property is read (from the \"outside\"), the objects internal getter method will be called to return a value. The method is marked in the class definition by a decorator called @property"
   ]
  },
  {
   "cell_type": "code",
   "execution_count": 23,
   "metadata": {},
   "outputs": [],
   "source": [
    "class Employee:\n",
    "    def __init__(self, name, salary):\n",
    "        self.name = name\n",
    "        self._salary = 0 if salary < 0 else salary\n",
    "\n",
    "    # Getter method\n",
    "    @property\n",
    "    def salary(self):\n",
    "        return self._salary\n",
    "    \n",
    "    # Setter method\n",
    "    @salary.setter\n",
    "    def salary(self, salary):\n",
    "        self._salary = 0 if salary < 0 else salary\n"
   ]
  },
  {
   "cell_type": "code",
   "execution_count": 25,
   "metadata": {},
   "outputs": [
    {
     "name": "stdout",
     "output_type": "stream",
     "text": [
      "0\n"
     ]
    }
   ],
   "source": [
    "employee = Employee(\"Anders\", 40000)\n",
    "employee2 = Employee(\"Bertil\", -40000)\n",
    "\n",
    "employee.salary = -5000\n",
    "print(employee.salary)\n",
    "\n",
    "#employee.set_salary = 50000\n",
    "#employee2.set_salary(-40000)\n",
    "\n",
    "#print(employee.get_salary())\n",
    "#print(employee2.get_salary())"
   ]
  },
  {
   "cell_type": "code",
   "execution_count": 30,
   "metadata": {},
   "outputs": [
    {
     "name": "stdout",
     "output_type": "stream",
     "text": [
      "Fredrik, Johansson\n",
      "Fredrik Johansson\n"
     ]
    }
   ],
   "source": [
    "class Person:\n",
    "    def __init__(self, firstname, lastname):\n",
    "        self.firstname = firstname\n",
    "        self.lastname = lastname\n",
    "\n",
    "    @property\n",
    "    def fullname(self):\n",
    "        return f\"{self.firstname} {self.lastname}\"\n",
    "\n",
    "person = Person(\"Fredrik\", \"Johansson\")\n",
    "\n",
    "print(person.firstname, person.lastname, sep=\", \")\n",
    "print(person.fullname)\n"
   ]
  },
  {
   "cell_type": "code",
   "execution_count": 2,
   "metadata": {},
   "outputs": [
    {
     "name": "stdout",
     "output_type": "stream",
     "text": [
      "Fredrik\n",
      "Johansson\n",
      "Kalle Balle 26\n"
     ]
    }
   ],
   "source": [
    "class Person:\n",
    "    def __init__(self, firstname, lastname, age):\n",
    "        self.firstname = firstname\n",
    "        self.lastname = lastname\n",
    "        self.age = age \n",
    "          \n",
    "    @property\n",
    "    def lastname(self):\n",
    "        return self._lastname\n",
    "    \n",
    "    @lastname.setter\n",
    "    def lastname(self, name):\n",
    "        self._lastname = name\n",
    "     \n",
    "    @property\n",
    "    def age(self):\n",
    "        return self._age\n",
    "\n",
    "    @age.setter\n",
    "    def age(self, age):\n",
    "        if type(age) != int:\n",
    "            self._age = 0\n",
    "        elif age < 0:\n",
    "            self._age = 0\n",
    "        elif age > 100:\n",
    "            self_age = 100\n",
    "            \n",
    "        else:\n",
    "            self._age = age\n",
    "\n",
    "person = Person(\"Fredrik\", \"Johansson\", 26)\n",
    "\n",
    "person.age = 26\n",
    "\n",
    "name = person.firstname\n",
    "print(name)\n",
    "person.firstname = \"Kalle\"\n",
    "\n",
    "name = person.lastname\n",
    "print(name)\n",
    "person.lastname = \"Balle\"\n",
    "\n",
    "print(person.firstname, person.lastname, person.age)\n"
   ]
  }
 ],
 "metadata": {
  "kernelspec": {
   "display_name": "Python-Sebastian-Fredin-CV_AEMsU",
   "language": "python",
   "name": "python3"
  },
  "language_info": {
   "codemirror_mode": {
    "name": "ipython",
    "version": 3
   },
   "file_extension": ".py",
   "mimetype": "text/x-python",
   "name": "python",
   "nbconvert_exporter": "python",
   "pygments_lexer": "ipython3",
   "version": "3.11.5"
  },
  "orig_nbformat": 4
 },
 "nbformat": 4,
 "nbformat_minor": 2
}
