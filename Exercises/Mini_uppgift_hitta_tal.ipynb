{
 "cells": [
  {
   "cell_type": "markdown",
   "metadata": {},
   "source": [
    "# Mini-Uppgift: Hitta tal i sträng med tecken"
   ]
  },
  {
   "cell_type": "code",
   "execution_count": 11,
   "metadata": {},
   "outputs": [
    {
     "name": "stdout",
     "output_type": "stream",
     "text": [
      "string = '29535123p48723487597645723645'\n",
      "\u001b[0m\u001b[34m2953512\u001b[0m3p48723487597645723645\n",
      "\u001b[0m29\u001b[34m535\u001b[0m123p48723487597645723645\n",
      "\u001b[0m295\u001b[34m35123\u001b[0mp48723487597645723645\n",
      "\u001b[0m29535123p\u001b[34m487234\u001b[0m87597645723645\n",
      "\u001b[0m29535123p4\u001b[34m872348\u001b[0m7597645723645\n",
      "\u001b[0m29535123p48\u001b[34m723487\u001b[0m597645723645\n",
      "\u001b[0m29535123p487\u001b[34m2348759764572\u001b[0m3645\n",
      "\u001b[0m29535123p4872\u001b[34m3487597645723\u001b[0m645\n",
      "\u001b[0m29535123p48723\u001b[34m48759764\u001b[0m5723645\n",
      "\u001b[0m29535123p4872348\u001b[34m7597\u001b[0m645723645\n",
      "\u001b[0m29535123p48723487\u001b[34m597645\u001b[0m723645\n",
      "\u001b[0m29535123p4872348759\u001b[34m76457\u001b[0m23645\n",
      "\u001b[0m29535123p48723487597\u001b[34m6457236\u001b[0m45\n",
      "\u001b[0m29535123p487234875976\u001b[34m4572364\u001b[0m5\n",
      "\u001b[0m29535123p4872348759764\u001b[34m5723645\u001b[0m\n"
     ]
    }
   ],
   "source": [
    "from colorama import Fore, Back, Style\n",
    "\n",
    "string = input(\"Enter a string: \")\n",
    "print(f\"{string = }\")\n",
    "\n",
    "string_prior = \"\"\n",
    "string_after = \"\"\n",
    "\n",
    "for i, character in enumerate(string):\n",
    "    found = 0\n",
    "    if character.isdigit():\n",
    "        j = i + 1\n",
    "        while(j < len(string)): \n",
    "            if not string[j].isdigit():\n",
    "                break\n",
    "            elif string[j] == string[i]:\n",
    "                found = 1\n",
    "                break \n",
    "            j += 1\n",
    "        if i:\n",
    "            string_prior = string[:i]\n",
    "        if j < len(string):\n",
    "            string_after = string[j + 1:]\n",
    "        if found == 1:\n",
    "            print(f\"{Style.RESET_ALL}{string_prior}{Fore.BLUE}{string[i:j+1]}{Style.RESET_ALL}{string_after}\")\n",
    "\n",
    "    "
   ]
  },
  {
   "cell_type": "code",
   "execution_count": null,
   "metadata": {},
   "outputs": [],
   "source": [
    "from colorama import Fore, Back, Style\n",
    "\n"
   ]
  }
 ],
 "metadata": {
  "kernelspec": {
   "display_name": "Python 3",
   "language": "python",
   "name": "python3"
  },
  "language_info": {
   "codemirror_mode": {
    "name": "ipython",
    "version": 3
   },
   "file_extension": ".py",
   "mimetype": "text/x-python",
   "name": "python",
   "nbconvert_exporter": "python",
   "pygments_lexer": "ipython3",
   "version": "3.11.5"
  },
  "orig_nbformat": 4
 },
 "nbformat": 4,
 "nbformat_minor": 2
}
