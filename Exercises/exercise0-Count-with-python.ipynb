Pythagoras theorem
- a)   A right angled triangle has the catheti: a = 3 and b = 4 length units. Compute the hypothenuse of the triangle. (*)
- b)   A right angled triangle has hypothenuse c = 7.0 and a cathetus a = 5.0 length units. Compute the other cathetus and round to one decimal. (*)


# (a)

import math
sidea = 3
sideb = 4

c_squared = sidea**2 + sideb**2

c = math.sqrt(c_squared)

print(c)


# (b)

a = 5
c = 7

b = math.sqrt(c**2 - a**2)

print(f*(round(b, 1).df)*)
print{f*(b:df)*}


# 2. Classification accuracy
- A machine learning algorithm has been trained to predict whether or not it would rain the next day. Out of 365 predictions, it got 300 correct, compute the accuracy of this model.

accuracy = 300 / 365
print(accuracy)



# 3. Classification accuracy (*)

TP = 2
FP = 2
FN = 11
TN = 985

accuracy = (TP + TN) / (TP + TN + FP + FN)

print(accuracy)


