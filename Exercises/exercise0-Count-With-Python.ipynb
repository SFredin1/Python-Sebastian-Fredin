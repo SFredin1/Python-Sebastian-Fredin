Pythagoras theorem
- a)   A right angled triangle has the catheti: a = 3 and b = 4 length units. Compute the hypothenuse of the triangle. (*)
- b)   A right angled triangle has hypothenuse c = 7.0 and a cathetus a = 5.0 length units. Compute the other cathetus and round to one decimal. (*)



from math import sqrt

print("Input lengths of side a and b: ")

a = float(input("a: "))
b = float(input("b: "))
c = sqrt(a**2 + b**2)

a = int(3)
b= int(4)

print("The length of the hypotenuse is: ", c)
