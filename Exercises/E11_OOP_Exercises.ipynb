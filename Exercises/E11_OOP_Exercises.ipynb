{
 "cells": [
  {
   "cell_type": "markdown",
   "metadata": {},
   "source": [
    "# 1. Step tracker\n",
    "Create a class that can be used as a step tracker. It should have a property \"steps\" that is read only; a method step() that increases \"steps\" by 1 each time it is called; and a method reset() that resets the counter.\n",
    "\n",
    "Instantiate the class, and write a loop that simulates walking 1000 steps. Then print the value of \"steps\"."
   ]
  },
  {
   "cell_type": "code",
   "execution_count": 8,
   "metadata": {},
   "outputs": [
    {
     "name": "stdout",
     "output_type": "stream",
     "text": [
      "Total steps walked: 1000\n"
     ]
    }
   ],
   "source": [
    "class StepTracker:\n",
    "    def __init__(self):\n",
    "        self._steps = 0\n",
    "\n",
    "    @property\n",
    "    def steps(self):\n",
    "        return self._steps\n",
    "    \n",
    "    def step(self):\n",
    "        self._steps += 1\n",
    "\n",
    "    def reset(self):\n",
    "        self.steps = 0\n",
    "\n",
    "tracker = StepTracker()\n",
    "\n",
    "for steps in range(1000):\n",
    "    tracker.step()\n",
    "\n",
    "print(f\"Total steps walked: {tracker.steps}\")\n",
    "\n"
   ]
  },
  {
   "cell_type": "markdown",
   "metadata": {},
   "source": [
    "# 2. Empty/full glass simulator (*)\n",
    "Create a class that represents a glass of water. It should have a method for filling the glass, and another method for emptying the glass. Also, there needs to be an internal/private attribute that keeps track of if the glass is empty or full. Depending on the current state (empty/full), the method that fills the glass should print either \"Filling the glass with water\" or \"The glass is already full\". The other method should print either \"Emptying the glass\" or \"The glass is already empty\".\n",
    "\n",
    "Additional exercise: Add another method to break the glass. Every glass (instance) keeps track of it's internal state, and prints what happens when the different methods are executed. Eg. \"The glass breaks. Now there is water all over the floor\", or \"The glass can not be filled, since it's broken\", etc."
   ]
  },
  {
   "cell_type": "code",
   "execution_count": 18,
   "metadata": {},
   "outputs": [
    {
     "name": "stdout",
     "output_type": "stream",
     "text": [
      "Filling the glass with water.\n",
      "The glass is already empty.\n",
      "You broke the glass, now there's water everywhere..\n",
      "The glass is broken and can't be filled.\n",
      "The glass is broken and has no water in it.\n"
     ]
    }
   ],
   "source": [
    "class GlassOfWater:\n",
    "    def __init__(self):\n",
    "        self._is_empty = True\n",
    "        self._is_broken = False\n",
    "\n",
    "    def fill(self):\n",
    "        if not self._is_broken:\n",
    "            if self._is_empty:\n",
    "                print(\"Filling the glass with water.\")\n",
    "            else:\n",
    "                print(\"The glass is already full.\")\n",
    "        else:\n",
    "            print(\"The glass is broken and can't be filled.\") \n",
    "\n",
    "    def empty(self):\n",
    "        if not self._is_broken:\n",
    "            if not self._is_empty:\n",
    "                print(\"Emptying the glass.\")\n",
    "            else:\n",
    "                print(\"The glass is already empty.\")\n",
    "        else:\n",
    "            print(\"The glass is broken and has no water in it.\")\n",
    "\n",
    "    def break_glass(self):\n",
    "        if not self._is_broken:\n",
    "            print(\"You broke the glass, now there's water everywhere..\")\n",
    "            self._is_broken = True\n",
    "            self._is_empty = True\n",
    "        else:\n",
    "            print(\"The glass is already broken.\")\n",
    "\n",
    "\n",
    "def main():\n",
    "    my_glass = GlassOfWater()\n",
    "\n",
    "    my_glass.fill() # Fill the glass\n",
    "    \n",
    "    my_glass.empty() # Empty the glass\n",
    "\n",
    "    my_glass.break_glass() # Break the glass\n",
    "\n",
    "    my_glass.fill() # The glass is broken and can't be filled\n",
    "    my_glass.empty() # The glass is broken and has no water in it\n",
    "\n",
    "if __name__ == \"__main__\":\n",
    "    main()"
   ]
  },
  {
   "cell_type": "markdown",
   "metadata": {},
   "source": [
    "# 3. Red and blue (*)\n",
    "Create a class that has a property \"red\", and a property \"blue\". Both should be floats, and be able to take any value between 0.0 and 100.0. However, they should be \"linked\" in such a way that the sum of \"red\" and \"blue\" always is 100.0. i.e. if we set the value of \"blue\" to 8.5, and then read the value of \"red\", it should return 91.5"
   ]
  },
  {
   "cell_type": "code",
   "execution_count": 12,
   "metadata": {},
   "outputs": [
    {
     "name": "stdout",
     "output_type": "stream",
     "text": [
      "Red: 50.0, Blue: 50.0\n",
      "Updated contents: Red: 91.5, Blue: 8.5\n"
     ]
    }
   ],
   "source": [
    "class MixedColors:\n",
    "    def __init__(self):\n",
    "        self._red = 50.0\n",
    "\n",
    "    @property\n",
    "    def red(self):\n",
    "        return self._red\n",
    "    \n",
    "    @red.setter\n",
    "    def red(self, value):\n",
    "        if 0.0 <= value <= 100.0:\n",
    "            self._red = value\n",
    "        else:\n",
    "            raise ValueError(\"Value must be between 0.0 - 100.0\")\n",
    "        \n",
    "    @property\n",
    "    def blue(self):\n",
    "        return 100.0 - self._red\n",
    "\n",
    "    @blue.setter\n",
    "    def blue(self, value):\n",
    "        if 0.0 <= value <= 100.0:\n",
    "            self._red = 100.0 - value\n",
    "        else:\n",
    "            raise ValueError(\"Value must be between 0.0 - 100.0\")\n",
    "\n",
    "def main():\n",
    "    mixed_colors = MixedColors()\n",
    "    print(f\"Red: {mixed_colors.red}, Blue: {mixed_colors.blue}\")\n",
    "\n",
    "    mixed_colors.blue = 8.5\n",
    "    print(f\"Updated contents: Red: {mixed_colors.red}, Blue: {mixed_colors.blue}\")\n",
    "\n",
    "if __name__ == \"__main__\":\n",
    "    main()"
   ]
  },
  {
   "cell_type": "markdown",
   "metadata": {},
   "source": [
    "# 4. One thousand cars (*)\n",
    "Create a class that represents a car. Every car can have a color and a length. When a new car is instantiated it gets a random color, and a random length (between 3 and 5 meters). Instatiate 1000 cars a save them in a list. Then print the sum of the length of all green cars in the list."
   ]
  },
  {
   "cell_type": "code",
   "execution_count": null,
   "metadata": {},
   "outputs": [],
   "source": [
    "import random\n",
    "\n",
    "class Cars:\n",
    "    def __init__(self):\n",
    "        self.\n",
    "\n",
    "    @color.setter\n",
    "    def color(self):\n",
    "        "
   ]
  }
 ],
 "metadata": {
  "kernelspec": {
   "display_name": "Python-Sebastian-Fredin-CV_AEMsU",
   "language": "python",
   "name": "python3"
  },
  "language_info": {
   "codemirror_mode": {
    "name": "ipython",
    "version": 3
   },
   "file_extension": ".py",
   "mimetype": "text/x-python",
   "name": "python",
   "nbconvert_exporter": "python",
   "pygments_lexer": "ipython3",
   "version": "3.11.5"
  },
  "orig_nbformat": 4
 },
 "nbformat": 4,
 "nbformat_minor": 2
}
