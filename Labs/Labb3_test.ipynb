{
 "cells": [
  {
   "cell_type": "code",
   "execution_count": 29,
   "metadata": {},
   "outputs": [
    {
     "name": "stdout",
     "output_type": "stream",
     "text": [
      "False\n",
      "False\n",
      "True\n",
      "False\n"
     ]
    },
    {
     "ename": "TypeError",
     "evalue": "unsupported operand type(s) for +=: 'int' and 'str'",
     "output_type": "error",
     "traceback": [
      "\u001b[1;31m---------------------------------------------------------------------------\u001b[0m",
      "\u001b[1;31mTypeError\u001b[0m                                 Traceback (most recent call last)",
      "\u001b[1;32mc:\\Users\\user\\Documents\\GitHub\\Python-Sebastian-Fredin\\Labs\\Labb3_test.ipynb Cell 1\u001b[0m line \u001b[0;36m1\n\u001b[0;32m     <a href='vscode-notebook-cell:/c%3A/Users/user/Documents/GitHub/Python-Sebastian-Fredin/Labs/Labb3_test.ipynb#W1sZmlsZQ%3D%3D?line=11'>12</a>\u001b[0m circle1\u001b[39m.\u001b[39mtranslate(\u001b[39m5\u001b[39m,\u001b[39m5\u001b[39m) \n\u001b[0;32m     <a href='vscode-notebook-cell:/c%3A/Users/user/Documents/GitHub/Python-Sebastian-Fredin/Labs/Labb3_test.ipynb#W1sZmlsZQ%3D%3D?line=12'>13</a>\u001b[0m \u001b[39mprint\u001b[39m(circle1\u001b[39m.\u001b[39mis_point_inside(\u001b[39m0.5\u001b[39m, \u001b[39m0.5\u001b[39m)) \u001b[39m# False\u001b[39;00m\n\u001b[1;32m---> <a href='vscode-notebook-cell:/c%3A/Users/user/Documents/GitHub/Python-Sebastian-Fredin/Labs/Labb3_test.ipynb#W1sZmlsZQ%3D%3D?line=14'>15</a>\u001b[0m circle1\u001b[39m.\u001b[39;49mtranslate(\u001b[39m\"\u001b[39;49m\u001b[39mTRE\u001b[39;49m\u001b[39m\"\u001b[39;49m, \u001b[39m5\u001b[39;49m)\n",
      "File \u001b[1;32mc:\\Users\\user\\Documents\\GitHub\\Python-Sebastian-Fredin\\Labs\\Labb3_Circle.py:149\u001b[0m, in \u001b[0;36mCircle.translate\u001b[1;34m(self, dx, dy)\u001b[0m\n\u001b[0;32m    142\u001b[0m \u001b[39mdef\u001b[39;00m \u001b[39mtranslate\u001b[39m(\u001b[39mself\u001b[39m, dx, dy):\n\u001b[0;32m    143\u001b[0m \u001b[39m    \u001b[39m\u001b[39m\"\"\"\u001b[39;00m\n\u001b[0;32m    144\u001b[0m \u001b[39m    Translate the position of the circle by the specified values (dx and dy).\u001b[39;00m\n\u001b[0;32m    145\u001b[0m \u001b[39m    Parameters:\u001b[39;00m\n\u001b[0;32m    146\u001b[0m \u001b[39m    - dx (float): The horizontal translation.\u001b[39;00m\n\u001b[0;32m    147\u001b[0m \u001b[39m    - dy (float): The vertical translation.\u001b[39;00m\n\u001b[0;32m    148\u001b[0m \u001b[39m    \"\"\"\u001b[39;00m\n\u001b[1;32m--> 149\u001b[0m     \u001b[39mself\u001b[39;49m\u001b[39m.\u001b[39;49mx \u001b[39m+\u001b[39;49m\u001b[39m=\u001b[39;49m dx\n\u001b[0;32m    150\u001b[0m     \u001b[39mself\u001b[39m\u001b[39m.\u001b[39my \u001b[39m+\u001b[39m\u001b[39m=\u001b[39m dy\n",
      "\u001b[1;31mTypeError\u001b[0m: unsupported operand type(s) for +=: 'int' and 'str'"
     ]
    }
   ],
   "source": [
    "from Labb3_Rectangle import Rectangle\n",
    "from Labb3_Circle import Circle\n",
    "\n",
    "rectangle = Rectangle(x=0, y=0, width=1, height=1)\n",
    "circle1 = Circle(x=0,y=0, radius=1) # enhetscirkel  \n",
    "circle2 = Circle(x=1,y=1, radius=1) \n",
    "\n",
    "print(circle1 == circle2) # False\n",
    "print(circle2==rectangle) # False  \n",
    "\n",
    "print(circle1.is_point_inside(0.5, 0.5)) # True \n",
    "circle1.translate(5,5) \n",
    "print(circle1.is_point_inside(0.5, 0.5)) # False\n",
    "\n",
    "circle1.translate(\"TRE\", 5)\n"
   ]
  }
 ],
 "metadata": {
  "kernelspec": {
   "display_name": "Python-Sebastian-Fredin-CV_AEMsU",
   "language": "python",
   "name": "python3"
  },
  "language_info": {
   "codemirror_mode": {
    "name": "ipython",
    "version": 3
   },
   "file_extension": ".py",
   "mimetype": "text/x-python",
   "name": "python",
   "nbconvert_exporter": "python",
   "pygments_lexer": "ipython3",
   "version": "3.11.5"
  }
 },
 "nbformat": 4,
 "nbformat_minor": 2
}
