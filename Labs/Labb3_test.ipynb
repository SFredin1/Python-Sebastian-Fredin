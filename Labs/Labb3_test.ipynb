{
 "cells": [
  {
   "cell_type": "code",
   "execution_count": 32,
   "metadata": {},
   "outputs": [
    {
     "name": "stdout",
     "output_type": "stream",
     "text": [
      "False\n",
      "False\n",
      "True\n",
      "False\n"
     ]
    }
   ],
   "source": [
    "from Labb3_Rectangle import Rectangle\n",
    "from Labb3_Circle import Circle\n",
    "\n",
    "rectangle = Rectangle(x=0, y=0, width=1, height=1)\n",
    "circle1 = Circle(x=0,y=0, radius=1) # enhetscirkel  \n",
    "circle2 = Circle(x=1,y=1, radius=1) \n",
    "\n",
    "print(circle1 == circle2) # False\n",
    "print(circle2==rectangle) # False  \n",
    "\n",
    "print(circle1.is_point_inside(0.5, 0.5)) # True \n",
    "circle1.translate(5,5) \n",
    "print(circle1.is_point_inside(0.5, 0.5)) # False\n",
    "\n",
    "circle1.translate(\"TRE\", 5)"
   ]
  }
 ],
 "metadata": {
  "kernelspec": {
   "display_name": "Python-Sebastian-Fredin-CV_AEMsU",
   "language": "python",
   "name": "python3"
  },
  "language_info": {
   "codemirror_mode": {
    "name": "ipython",
    "version": 3
   },
   "file_extension": ".py",
   "mimetype": "text/x-python",
   "name": "python",
   "nbconvert_exporter": "python",
   "pygments_lexer": "ipython3",
   "version": "3.11.5"
  }
 },
 "nbformat": 4,
 "nbformat_minor": 2
}
